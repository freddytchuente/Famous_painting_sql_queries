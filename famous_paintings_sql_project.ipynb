{
 "cells": [
  {
   "cell_type": "code",
   "execution_count": 1,
   "metadata": {},
   "outputs": [],
   "source": [
    "import numpy as np\n",
    "import pandas as pd"
   ]
  },
  {
   "cell_type": "code",
   "execution_count": 2,
   "metadata": {},
   "outputs": [],
   "source": [
    "# Provide a source of database connectivity \n",
    "from sqlalchemy import create_engine\n",
    "\n",
    "# Working with Sqlite database in python\n",
    "import sqlite3"
   ]
  },
  {
   "cell_type": "code",
   "execution_count": null,
   "metadata": {},
   "outputs": [],
   "source": []
  },
  {
   "cell_type": "markdown",
   "metadata": {},
   "source": [
    "## Data Preparation"
   ]
  },
  {
   "cell_type": "markdown",
   "metadata": {},
   "source": [
    "### 1-Subject data"
   ]
  },
  {
   "cell_type": "code",
   "execution_count": 3,
   "metadata": {},
   "outputs": [
    {
     "data": {
      "text/html": [
       "<div>\n",
       "<style scoped>\n",
       "    .dataframe tbody tr th:only-of-type {\n",
       "        vertical-align: middle;\n",
       "    }\n",
       "\n",
       "    .dataframe tbody tr th {\n",
       "        vertical-align: top;\n",
       "    }\n",
       "\n",
       "    .dataframe thead th {\n",
       "        text-align: right;\n",
       "    }\n",
       "</style>\n",
       "<table border=\"1\" class=\"dataframe\">\n",
       "  <thead>\n",
       "    <tr style=\"text-align: right;\">\n",
       "      <th></th>\n",
       "      <th>work_id</th>\n",
       "      <th>subject</th>\n",
       "    </tr>\n",
       "  </thead>\n",
       "  <tbody>\n",
       "    <tr>\n",
       "      <th>0</th>\n",
       "      <td>160228</td>\n",
       "      <td>Still-Life</td>\n",
       "    </tr>\n",
       "    <tr>\n",
       "      <th>1</th>\n",
       "      <td>160236</td>\n",
       "      <td>Still-Life</td>\n",
       "    </tr>\n",
       "    <tr>\n",
       "      <th>2</th>\n",
       "      <td>160244</td>\n",
       "      <td>Still-Life</td>\n",
       "    </tr>\n",
       "    <tr>\n",
       "      <th>3</th>\n",
       "      <td>160252</td>\n",
       "      <td>Still-Life</td>\n",
       "    </tr>\n",
       "    <tr>\n",
       "      <th>4</th>\n",
       "      <td>160260</td>\n",
       "      <td>Still-Life</td>\n",
       "    </tr>\n",
       "  </tbody>\n",
       "</table>\n",
       "</div>"
      ],
      "text/plain": [
       "   work_id     subject\n",
       "0   160228  Still-Life\n",
       "1   160236  Still-Life\n",
       "2   160244  Still-Life\n",
       "3   160252  Still-Life\n",
       "4   160260  Still-Life"
      ]
     },
     "execution_count": 3,
     "metadata": {},
     "output_type": "execute_result"
    }
   ],
   "source": [
    "# Load data\n",
    "df_subject = pd.read_csv('C:\\painting\\dataset\\subject.csv')\n",
    "df_subject.head()"
   ]
  },
  {
   "cell_type": "code",
   "execution_count": 4,
   "metadata": {},
   "outputs": [
    {
     "data": {
      "text/plain": [
       "(6771, 2)"
      ]
     },
     "execution_count": 4,
     "metadata": {},
     "output_type": "execute_result"
    }
   ],
   "source": [
    "# The dimension of the dataframe\n",
    "df_subject.shape"
   ]
  },
  {
   "cell_type": "code",
   "execution_count": 5,
   "metadata": {},
   "outputs": [
    {
     "name": "stdout",
     "output_type": "stream",
     "text": [
      "<class 'pandas.core.frame.DataFrame'>\n",
      "RangeIndex: 6771 entries, 0 to 6770\n",
      "Data columns (total 2 columns):\n",
      " #   Column   Non-Null Count  Dtype \n",
      "---  ------   --------------  ----- \n",
      " 0   work_id  6771 non-null   int64 \n",
      " 1   subject  6771 non-null   object\n",
      "dtypes: int64(1), object(1)\n",
      "memory usage: 105.9+ KB\n"
     ]
    }
   ],
   "source": [
    "# Display information about the dataframe\n",
    "df_subject.info()"
   ]
  },
  {
   "cell_type": "markdown",
   "metadata": {},
   "source": [
    "##### Data Cleaning"
   ]
  },
  {
   "cell_type": "code",
   "execution_count": 6,
   "metadata": {},
   "outputs": [
    {
     "data": {
      "text/plain": [
       "59"
      ]
     },
     "execution_count": 6,
     "metadata": {},
     "output_type": "execute_result"
    }
   ],
   "source": [
    "# Check for duplicates\n",
    "# Finding the total number of duplicate rows in the dataframe\n",
    "df_subject.duplicated().sum()"
   ]
  },
  {
   "cell_type": "code",
   "execution_count": 7,
   "metadata": {},
   "outputs": [
    {
     "data": {
      "text/plain": [
       "(6712, 2)"
      ]
     },
     "execution_count": 7,
     "metadata": {},
     "output_type": "execute_result"
    }
   ],
   "source": [
    "# Remove duplicates\n",
    "df_subject = df_subject.drop_duplicates()\n",
    "df_subject.shape"
   ]
  },
  {
   "cell_type": "code",
   "execution_count": 8,
   "metadata": {},
   "outputs": [
    {
     "data": {
      "text/plain": [
       "work_id    0\n",
       "subject    0\n",
       "dtype: int64"
      ]
     },
     "execution_count": 8,
     "metadata": {},
     "output_type": "execute_result"
    }
   ],
   "source": [
    "# Missing Values\n",
    "df_subject.isnull().sum()"
   ]
  },
  {
   "cell_type": "markdown",
   "metadata": {},
   "source": [
    "### 2- Work"
   ]
  },
  {
   "cell_type": "code",
   "execution_count": 9,
   "metadata": {},
   "outputs": [],
   "source": [
    "df_work = pd.read_csv('C:\\painting\\dataset\\work.csv')"
   ]
  },
  {
   "cell_type": "code",
   "execution_count": 10,
   "metadata": {},
   "outputs": [
    {
     "data": {
      "text/plain": [
       "(14776, 5)"
      ]
     },
     "execution_count": 10,
     "metadata": {},
     "output_type": "execute_result"
    }
   ],
   "source": [
    "# The dimension of the dataframe\n",
    "df_work.shape"
   ]
  },
  {
   "cell_type": "code",
   "execution_count": 11,
   "metadata": {},
   "outputs": [
    {
     "name": "stdout",
     "output_type": "stream",
     "text": [
      "<class 'pandas.core.frame.DataFrame'>\n",
      "RangeIndex: 14776 entries, 0 to 14775\n",
      "Data columns (total 5 columns):\n",
      " #   Column     Non-Null Count  Dtype  \n",
      "---  ------     --------------  -----  \n",
      " 0   work_id    14776 non-null  int64  \n",
      " 1   name       14776 non-null  object \n",
      " 2   artist_id  14776 non-null  int64  \n",
      " 3   style      13490 non-null  object \n",
      " 4   museum_id  4553 non-null   float64\n",
      "dtypes: float64(1), int64(2), object(2)\n",
      "memory usage: 577.3+ KB\n"
     ]
    }
   ],
   "source": [
    "# Display information about the dataframe\n",
    "df_work.info()"
   ]
  },
  {
   "cell_type": "markdown",
   "metadata": {},
   "source": [
    "##### Data Cleaning"
   ]
  },
  {
   "cell_type": "code",
   "execution_count": 12,
   "metadata": {},
   "outputs": [
    {
     "data": {
      "text/plain": [
       "60"
      ]
     },
     "execution_count": 12,
     "metadata": {},
     "output_type": "execute_result"
    }
   ],
   "source": [
    "# Check for duplicates\n",
    "# Finding the total number of duplicate rows in the dataframe\n",
    "df_work.duplicated().sum()"
   ]
  },
  {
   "cell_type": "code",
   "execution_count": 13,
   "metadata": {},
   "outputs": [
    {
     "data": {
      "text/plain": [
       "(14716, 5)"
      ]
     },
     "execution_count": 13,
     "metadata": {},
     "output_type": "execute_result"
    }
   ],
   "source": [
    "# Remove duplicates\n",
    "df_work = df_work.drop_duplicates()\n",
    "df_work.shape"
   ]
  },
  {
   "cell_type": "code",
   "execution_count": 14,
   "metadata": {},
   "outputs": [
    {
     "data": {
      "text/plain": [
       "work_id          0\n",
       "name             0\n",
       "artist_id        0\n",
       "style         1228\n",
       "museum_id    10163\n",
       "dtype: int64"
      ]
     },
     "execution_count": 14,
     "metadata": {},
     "output_type": "execute_result"
    }
   ],
   "source": [
    "# Missing Values\n",
    "df_work.isnull().sum()"
   ]
  },
  {
   "cell_type": "markdown",
   "metadata": {},
   "source": [
    "### 3- Museum"
   ]
  },
  {
   "cell_type": "code",
   "execution_count": 15,
   "metadata": {},
   "outputs": [],
   "source": [
    "df_museum = pd.read_csv('C:\\painting\\dataset\\museum.csv')"
   ]
  },
  {
   "cell_type": "code",
   "execution_count": 16,
   "metadata": {},
   "outputs": [
    {
     "data": {
      "text/plain": [
       "(57, 9)"
      ]
     },
     "execution_count": 16,
     "metadata": {},
     "output_type": "execute_result"
    }
   ],
   "source": [
    "# The dimension of the dataframe\n",
    "df_museum.shape"
   ]
  },
  {
   "cell_type": "code",
   "execution_count": 17,
   "metadata": {},
   "outputs": [
    {
     "name": "stdout",
     "output_type": "stream",
     "text": [
      "<class 'pandas.core.frame.DataFrame'>\n",
      "RangeIndex: 57 entries, 0 to 56\n",
      "Data columns (total 9 columns):\n",
      " #   Column     Non-Null Count  Dtype \n",
      "---  ------     --------------  ----- \n",
      " 0   museum_id  57 non-null     int64 \n",
      " 1   name       57 non-null     object\n",
      " 2   address    57 non-null     object\n",
      " 3   city       57 non-null     object\n",
      " 4   state      38 non-null     object\n",
      " 5   postal     50 non-null     object\n",
      " 6   country    57 non-null     object\n",
      " 7   phone      57 non-null     object\n",
      " 8   url        57 non-null     object\n",
      "dtypes: int64(1), object(8)\n",
      "memory usage: 4.1+ KB\n"
     ]
    }
   ],
   "source": [
    "# Display information about the dataframe\n",
    "df_museum.info()"
   ]
  },
  {
   "cell_type": "markdown",
   "metadata": {},
   "source": [
    "##### Data Cleaning"
   ]
  },
  {
   "cell_type": "code",
   "execution_count": 18,
   "metadata": {},
   "outputs": [
    {
     "data": {
      "text/plain": [
       "0"
      ]
     },
     "execution_count": 18,
     "metadata": {},
     "output_type": "execute_result"
    }
   ],
   "source": [
    "# Check for duplicates\n",
    "# Finding the total number of duplicate rows in the dataframe\n",
    "df_museum.duplicated().sum()"
   ]
  },
  {
   "cell_type": "code",
   "execution_count": 19,
   "metadata": {},
   "outputs": [
    {
     "data": {
      "text/plain": [
       "museum_id     0\n",
       "name          0\n",
       "address       0\n",
       "city          0\n",
       "state        19\n",
       "postal        7\n",
       "country       0\n",
       "phone         0\n",
       "url           0\n",
       "dtype: int64"
      ]
     },
     "execution_count": 19,
     "metadata": {},
     "output_type": "execute_result"
    }
   ],
   "source": [
    "# Missing Values\n",
    "df_museum.isnull().sum()"
   ]
  },
  {
   "cell_type": "markdown",
   "metadata": {},
   "source": [
    "### 4- Museum_hours"
   ]
  },
  {
   "cell_type": "code",
   "execution_count": 20,
   "metadata": {},
   "outputs": [],
   "source": [
    "df_museum_hrs = pd.read_csv('C:\\painting\\dataset\\museum_hours.csv')"
   ]
  },
  {
   "cell_type": "code",
   "execution_count": 21,
   "metadata": {},
   "outputs": [
    {
     "data": {
      "text/plain": [
       "(351, 4)"
      ]
     },
     "execution_count": 21,
     "metadata": {},
     "output_type": "execute_result"
    }
   ],
   "source": [
    "# The dimension of the dataframe\n",
    "df_museum_hrs.shape"
   ]
  },
  {
   "cell_type": "code",
   "execution_count": 22,
   "metadata": {},
   "outputs": [
    {
     "name": "stdout",
     "output_type": "stream",
     "text": [
      "<class 'pandas.core.frame.DataFrame'>\n",
      "RangeIndex: 351 entries, 0 to 350\n",
      "Data columns (total 4 columns):\n",
      " #   Column     Non-Null Count  Dtype \n",
      "---  ------     --------------  ----- \n",
      " 0   museum_id  351 non-null    int64 \n",
      " 1   day        351 non-null    object\n",
      " 2   open       351 non-null    object\n",
      " 3   close      351 non-null    object\n",
      "dtypes: int64(1), object(3)\n",
      "memory usage: 11.1+ KB\n"
     ]
    }
   ],
   "source": [
    "# Display information about the dataframe\n",
    "df_museum_hrs.info()"
   ]
  },
  {
   "cell_type": "markdown",
   "metadata": {},
   "source": [
    "##### Data Cleaning"
   ]
  },
  {
   "cell_type": "code",
   "execution_count": 23,
   "metadata": {},
   "outputs": [
    {
     "data": {
      "text/plain": [
       "1"
      ]
     },
     "execution_count": 23,
     "metadata": {},
     "output_type": "execute_result"
    }
   ],
   "source": [
    "# Check for duplicates\n",
    "# Finding the total number of duplicate rows in the dataframe\n",
    "df_museum_hrs.duplicated().sum()"
   ]
  },
  {
   "cell_type": "code",
   "execution_count": 24,
   "metadata": {},
   "outputs": [
    {
     "data": {
      "text/plain": [
       "(350, 4)"
      ]
     },
     "execution_count": 24,
     "metadata": {},
     "output_type": "execute_result"
    }
   ],
   "source": [
    "# Remove duplicates\n",
    "df_museum_hrs = df_museum_hrs.drop_duplicates()\n",
    "df_museum_hrs.shape"
   ]
  },
  {
   "cell_type": "code",
   "execution_count": 25,
   "metadata": {},
   "outputs": [
    {
     "data": {
      "text/plain": [
       "museum_id    0\n",
       "day          0\n",
       "open         0\n",
       "close        0\n",
       "dtype: int64"
      ]
     },
     "execution_count": 25,
     "metadata": {},
     "output_type": "execute_result"
    }
   ],
   "source": [
    "# Missing Values\n",
    "df_museum_hrs.isnull().sum()"
   ]
  },
  {
   "cell_type": "markdown",
   "metadata": {},
   "source": [
    "### 5 -Artist"
   ]
  },
  {
   "cell_type": "code",
   "execution_count": 26,
   "metadata": {},
   "outputs": [
    {
     "data": {
      "text/html": [
       "<div>\n",
       "<style scoped>\n",
       "    .dataframe tbody tr th:only-of-type {\n",
       "        vertical-align: middle;\n",
       "    }\n",
       "\n",
       "    .dataframe tbody tr th {\n",
       "        vertical-align: top;\n",
       "    }\n",
       "\n",
       "    .dataframe thead th {\n",
       "        text-align: right;\n",
       "    }\n",
       "</style>\n",
       "<table border=\"1\" class=\"dataframe\">\n",
       "  <thead>\n",
       "    <tr style=\"text-align: right;\">\n",
       "      <th></th>\n",
       "      <th>artist_id</th>\n",
       "      <th>full_name</th>\n",
       "      <th>first_name</th>\n",
       "      <th>middle_names</th>\n",
       "      <th>last_name</th>\n",
       "      <th>nationality</th>\n",
       "      <th>style</th>\n",
       "      <th>birth</th>\n",
       "      <th>death</th>\n",
       "    </tr>\n",
       "  </thead>\n",
       "  <tbody>\n",
       "    <tr>\n",
       "      <th>0</th>\n",
       "      <td>500</td>\n",
       "      <td>Pierre-Auguste Renoir</td>\n",
       "      <td>Pierre</td>\n",
       "      <td>Auguste</td>\n",
       "      <td>Renoir</td>\n",
       "      <td>French</td>\n",
       "      <td>Impressionist</td>\n",
       "      <td>1841</td>\n",
       "      <td>1919</td>\n",
       "    </tr>\n",
       "    <tr>\n",
       "      <th>1</th>\n",
       "      <td>501</td>\n",
       "      <td>Alexandre Cabanel</td>\n",
       "      <td>Alexandre</td>\n",
       "      <td>NaN</td>\n",
       "      <td>Cabanel</td>\n",
       "      <td>French</td>\n",
       "      <td>Classicist</td>\n",
       "      <td>1823</td>\n",
       "      <td>1889</td>\n",
       "    </tr>\n",
       "    <tr>\n",
       "      <th>2</th>\n",
       "      <td>502</td>\n",
       "      <td>James Ensor</td>\n",
       "      <td>James</td>\n",
       "      <td>NaN</td>\n",
       "      <td>Ensor</td>\n",
       "      <td>Belgian</td>\n",
       "      <td>Expressionist</td>\n",
       "      <td>1860</td>\n",
       "      <td>1949</td>\n",
       "    </tr>\n",
       "    <tr>\n",
       "      <th>3</th>\n",
       "      <td>503</td>\n",
       "      <td>Maximilien Luce</td>\n",
       "      <td>Maximilien</td>\n",
       "      <td>NaN</td>\n",
       "      <td>Luce</td>\n",
       "      <td>French</td>\n",
       "      <td>Pointillist</td>\n",
       "      <td>1858</td>\n",
       "      <td>1941</td>\n",
       "    </tr>\n",
       "    <tr>\n",
       "      <th>4</th>\n",
       "      <td>504</td>\n",
       "      <td>August Macke</td>\n",
       "      <td>August</td>\n",
       "      <td>NaN</td>\n",
       "      <td>Macke</td>\n",
       "      <td>German</td>\n",
       "      <td>Expressionist</td>\n",
       "      <td>1887</td>\n",
       "      <td>1914</td>\n",
       "    </tr>\n",
       "  </tbody>\n",
       "</table>\n",
       "</div>"
      ],
      "text/plain": [
       "   artist_id              full_name  first_name middle_names last_name  \\\n",
       "0        500  Pierre-Auguste Renoir      Pierre      Auguste    Renoir   \n",
       "1        501      Alexandre Cabanel   Alexandre          NaN   Cabanel   \n",
       "2        502            James Ensor       James          NaN     Ensor   \n",
       "3        503        Maximilien Luce  Maximilien          NaN      Luce   \n",
       "4        504           August Macke      August          NaN     Macke   \n",
       "\n",
       "  nationality          style  birth  death  \n",
       "0      French  Impressionist   1841   1919  \n",
       "1      French     Classicist   1823   1889  \n",
       "2     Belgian  Expressionist   1860   1949  \n",
       "3      French    Pointillist   1858   1941  \n",
       "4      German  Expressionist   1887   1914  "
      ]
     },
     "execution_count": 26,
     "metadata": {},
     "output_type": "execute_result"
    }
   ],
   "source": [
    "df_artist = pd.read_csv('C:\\\\painting\\\\dataset\\\\artist.csv')\n",
    "df_artist.head()"
   ]
  },
  {
   "cell_type": "code",
   "execution_count": 27,
   "metadata": {},
   "outputs": [
    {
     "data": {
      "text/plain": [
       "(421, 9)"
      ]
     },
     "execution_count": 27,
     "metadata": {},
     "output_type": "execute_result"
    }
   ],
   "source": [
    "df_artist.shape"
   ]
  },
  {
   "cell_type": "code",
   "execution_count": 28,
   "metadata": {},
   "outputs": [
    {
     "name": "stdout",
     "output_type": "stream",
     "text": [
      "<class 'pandas.core.frame.DataFrame'>\n",
      "RangeIndex: 421 entries, 0 to 420\n",
      "Data columns (total 9 columns):\n",
      " #   Column        Non-Null Count  Dtype \n",
      "---  ------        --------------  ----- \n",
      " 0   artist_id     421 non-null    int64 \n",
      " 1   full_name     421 non-null    object\n",
      " 2   first_name    421 non-null    object\n",
      " 3   middle_names  148 non-null    object\n",
      " 4   last_name     421 non-null    object\n",
      " 5   nationality   421 non-null    object\n",
      " 6   style         421 non-null    object\n",
      " 7   birth         421 non-null    int64 \n",
      " 8   death         421 non-null    int64 \n",
      "dtypes: int64(3), object(6)\n",
      "memory usage: 29.7+ KB\n"
     ]
    }
   ],
   "source": [
    "df_artist.info()"
   ]
  },
  {
   "cell_type": "markdown",
   "metadata": {},
   "source": [
    "##### Data Cleaning"
   ]
  },
  {
   "cell_type": "code",
   "execution_count": 29,
   "metadata": {},
   "outputs": [
    {
     "data": {
      "text/plain": [
       "0"
      ]
     },
     "execution_count": 29,
     "metadata": {},
     "output_type": "execute_result"
    }
   ],
   "source": [
    "# Check for duplicates\n",
    "df_artist.duplicated().sum()"
   ]
  },
  {
   "cell_type": "code",
   "execution_count": 30,
   "metadata": {},
   "outputs": [
    {
     "data": {
      "text/plain": [
       "artist_id         0\n",
       "full_name         0\n",
       "first_name        0\n",
       "middle_names    273\n",
       "last_name         0\n",
       "nationality       0\n",
       "style             0\n",
       "birth             0\n",
       "death             0\n",
       "dtype: int64"
      ]
     },
     "execution_count": 30,
     "metadata": {},
     "output_type": "execute_result"
    }
   ],
   "source": [
    "# missing Values\n",
    "df_artist.isnull().sum()"
   ]
  },
  {
   "cell_type": "markdown",
   "metadata": {},
   "source": [
    "### 6- Product Size"
   ]
  },
  {
   "cell_type": "code",
   "execution_count": 31,
   "metadata": {},
   "outputs": [
    {
     "data": {
      "text/html": [
       "<div>\n",
       "<style scoped>\n",
       "    .dataframe tbody tr th:only-of-type {\n",
       "        vertical-align: middle;\n",
       "    }\n",
       "\n",
       "    .dataframe tbody tr th {\n",
       "        vertical-align: top;\n",
       "    }\n",
       "\n",
       "    .dataframe thead th {\n",
       "        text-align: right;\n",
       "    }\n",
       "</style>\n",
       "<table border=\"1\" class=\"dataframe\">\n",
       "  <thead>\n",
       "    <tr style=\"text-align: right;\">\n",
       "      <th></th>\n",
       "      <th>work_id</th>\n",
       "      <th>size_id</th>\n",
       "      <th>sale_price</th>\n",
       "      <th>regular_price</th>\n",
       "    </tr>\n",
       "  </thead>\n",
       "  <tbody>\n",
       "    <tr>\n",
       "      <th>0</th>\n",
       "      <td>160228</td>\n",
       "      <td>24</td>\n",
       "      <td>85</td>\n",
       "      <td>85</td>\n",
       "    </tr>\n",
       "    <tr>\n",
       "      <th>1</th>\n",
       "      <td>160228</td>\n",
       "      <td>30</td>\n",
       "      <td>95</td>\n",
       "      <td>95</td>\n",
       "    </tr>\n",
       "    <tr>\n",
       "      <th>2</th>\n",
       "      <td>160236</td>\n",
       "      <td>24</td>\n",
       "      <td>85</td>\n",
       "      <td>85</td>\n",
       "    </tr>\n",
       "    <tr>\n",
       "      <th>3</th>\n",
       "      <td>160236</td>\n",
       "      <td>30</td>\n",
       "      <td>95</td>\n",
       "      <td>95</td>\n",
       "    </tr>\n",
       "    <tr>\n",
       "      <th>4</th>\n",
       "      <td>160244</td>\n",
       "      <td>24</td>\n",
       "      <td>85</td>\n",
       "      <td>85</td>\n",
       "    </tr>\n",
       "  </tbody>\n",
       "</table>\n",
       "</div>"
      ],
      "text/plain": [
       "   work_id size_id  sale_price  regular_price\n",
       "0   160228      24          85             85\n",
       "1   160228      30          95             95\n",
       "2   160236      24          85             85\n",
       "3   160236      30          95             95\n",
       "4   160244      24          85             85"
      ]
     },
     "execution_count": 31,
     "metadata": {},
     "output_type": "execute_result"
    }
   ],
   "source": [
    "df_product_size = pd.read_csv('C:\\painting\\dataset\\product_size.csv')\n",
    "df_product_size.head()"
   ]
  },
  {
   "cell_type": "code",
   "execution_count": 32,
   "metadata": {},
   "outputs": [
    {
     "data": {
      "text/plain": [
       "(110347, 4)"
      ]
     },
     "execution_count": 32,
     "metadata": {},
     "output_type": "execute_result"
    }
   ],
   "source": [
    "# The dimension of the dataframe\n",
    "df_product_size.shape"
   ]
  },
  {
   "cell_type": "code",
   "execution_count": 33,
   "metadata": {},
   "outputs": [
    {
     "name": "stdout",
     "output_type": "stream",
     "text": [
      "<class 'pandas.core.frame.DataFrame'>\n",
      "RangeIndex: 110347 entries, 0 to 110346\n",
      "Data columns (total 4 columns):\n",
      " #   Column         Non-Null Count   Dtype \n",
      "---  ------         --------------   ----- \n",
      " 0   work_id        110347 non-null  int64 \n",
      " 1   size_id        110347 non-null  object\n",
      " 2   sale_price     110347 non-null  int64 \n",
      " 3   regular_price  110347 non-null  int64 \n",
      "dtypes: int64(3), object(1)\n",
      "memory usage: 3.4+ MB\n"
     ]
    }
   ],
   "source": [
    "# Display information about the dataframe\n",
    "df_product_size.info()"
   ]
  },
  {
   "cell_type": "markdown",
   "metadata": {},
   "source": [
    "##### Data Cleaning"
   ]
  },
  {
   "cell_type": "code",
   "execution_count": 34,
   "metadata": {},
   "outputs": [
    {
     "data": {
      "text/plain": [
       "687"
      ]
     },
     "execution_count": 34,
     "metadata": {},
     "output_type": "execute_result"
    }
   ],
   "source": [
    "# Check for duplicates\n",
    "# Finding the total number of duplicate rows in the dataframe\n",
    "df_product_size.duplicated().sum()"
   ]
  },
  {
   "cell_type": "code",
   "execution_count": 35,
   "metadata": {},
   "outputs": [
    {
     "data": {
      "text/plain": [
       "(109660, 4)"
      ]
     },
     "execution_count": 35,
     "metadata": {},
     "output_type": "execute_result"
    }
   ],
   "source": [
    "# Remove duplicates\n",
    "df_product_size = df_product_size.drop_duplicates()\n",
    "df_product_size.shape"
   ]
  },
  {
   "cell_type": "code",
   "execution_count": 36,
   "metadata": {},
   "outputs": [
    {
     "data": {
      "text/plain": [
       "work_id          0\n",
       "size_id          0\n",
       "sale_price       0\n",
       "regular_price    0\n",
       "dtype: int64"
      ]
     },
     "execution_count": 36,
     "metadata": {},
     "output_type": "execute_result"
    }
   ],
   "source": [
    "# Missing Values\n",
    "df_product_size.isnull().sum()"
   ]
  },
  {
   "cell_type": "markdown",
   "metadata": {},
   "source": [
    "### 7- Image Link"
   ]
  },
  {
   "cell_type": "code",
   "execution_count": 37,
   "metadata": {},
   "outputs": [
    {
     "data": {
      "text/html": [
       "<div>\n",
       "<style scoped>\n",
       "    .dataframe tbody tr th:only-of-type {\n",
       "        vertical-align: middle;\n",
       "    }\n",
       "\n",
       "    .dataframe tbody tr th {\n",
       "        vertical-align: top;\n",
       "    }\n",
       "\n",
       "    .dataframe thead th {\n",
       "        text-align: right;\n",
       "    }\n",
       "</style>\n",
       "<table border=\"1\" class=\"dataframe\">\n",
       "  <thead>\n",
       "    <tr style=\"text-align: right;\">\n",
       "      <th></th>\n",
       "      <th>work_id</th>\n",
       "      <th>url</th>\n",
       "      <th>thumbnail_small_url</th>\n",
       "      <th>thumbnail_large_url</th>\n",
       "    </tr>\n",
       "  </thead>\n",
       "  <tbody>\n",
       "    <tr>\n",
       "      <th>0</th>\n",
       "      <td>181978</td>\n",
       "      <td>https://v5.airtableusercontent.com/v1/15/15/16...</td>\n",
       "      <td>https://v5.airtableusercontent.com/v1/15/15/16...</td>\n",
       "      <td>https://v5.airtableusercontent.com/v1/15/15/16...</td>\n",
       "    </tr>\n",
       "    <tr>\n",
       "      <th>1</th>\n",
       "      <td>173188</td>\n",
       "      <td>https://v5.airtableusercontent.com/v1/15/15/16...</td>\n",
       "      <td>https://v5.airtableusercontent.com/v1/15/15/16...</td>\n",
       "      <td>https://v5.airtableusercontent.com/v1/15/15/16...</td>\n",
       "    </tr>\n",
       "    <tr>\n",
       "      <th>2</th>\n",
       "      <td>194065</td>\n",
       "      <td>https://v5.airtableusercontent.com/v1/15/15/16...</td>\n",
       "      <td>https://v5.airtableusercontent.com/v1/15/15/16...</td>\n",
       "      <td>https://v5.airtableusercontent.com/v1/15/15/16...</td>\n",
       "    </tr>\n",
       "    <tr>\n",
       "      <th>3</th>\n",
       "      <td>129337</td>\n",
       "      <td>https://v5.airtableusercontent.com/v1/15/15/16...</td>\n",
       "      <td>https://v5.airtableusercontent.com/v1/15/15/16...</td>\n",
       "      <td>https://v5.airtableusercontent.com/v1/15/15/16...</td>\n",
       "    </tr>\n",
       "    <tr>\n",
       "      <th>4</th>\n",
       "      <td>141073</td>\n",
       "      <td>https://v5.airtableusercontent.com/v1/15/15/16...</td>\n",
       "      <td>https://v5.airtableusercontent.com/v1/15/15/16...</td>\n",
       "      <td>https://v5.airtableusercontent.com/v1/15/15/16...</td>\n",
       "    </tr>\n",
       "  </tbody>\n",
       "</table>\n",
       "</div>"
      ],
      "text/plain": [
       "   work_id                                                url  \\\n",
       "0   181978  https://v5.airtableusercontent.com/v1/15/15/16...   \n",
       "1   173188  https://v5.airtableusercontent.com/v1/15/15/16...   \n",
       "2   194065  https://v5.airtableusercontent.com/v1/15/15/16...   \n",
       "3   129337  https://v5.airtableusercontent.com/v1/15/15/16...   \n",
       "4   141073  https://v5.airtableusercontent.com/v1/15/15/16...   \n",
       "\n",
       "                                 thumbnail_small_url  \\\n",
       "0  https://v5.airtableusercontent.com/v1/15/15/16...   \n",
       "1  https://v5.airtableusercontent.com/v1/15/15/16...   \n",
       "2  https://v5.airtableusercontent.com/v1/15/15/16...   \n",
       "3  https://v5.airtableusercontent.com/v1/15/15/16...   \n",
       "4  https://v5.airtableusercontent.com/v1/15/15/16...   \n",
       "\n",
       "                                 thumbnail_large_url  \n",
       "0  https://v5.airtableusercontent.com/v1/15/15/16...  \n",
       "1  https://v5.airtableusercontent.com/v1/15/15/16...  \n",
       "2  https://v5.airtableusercontent.com/v1/15/15/16...  \n",
       "3  https://v5.airtableusercontent.com/v1/15/15/16...  \n",
       "4  https://v5.airtableusercontent.com/v1/15/15/16...  "
      ]
     },
     "execution_count": 37,
     "metadata": {},
     "output_type": "execute_result"
    }
   ],
   "source": [
    "df_image_link = pd.read_csv('C:\\painting\\dataset\\image_link.csv')\n",
    "df_image_link.head()"
   ]
  },
  {
   "cell_type": "code",
   "execution_count": 38,
   "metadata": {},
   "outputs": [
    {
     "data": {
      "text/plain": [
       "(14775, 4)"
      ]
     },
     "execution_count": 38,
     "metadata": {},
     "output_type": "execute_result"
    }
   ],
   "source": [
    "df_image_link.shape"
   ]
  },
  {
   "cell_type": "code",
   "execution_count": 39,
   "metadata": {},
   "outputs": [
    {
     "name": "stdout",
     "output_type": "stream",
     "text": [
      "<class 'pandas.core.frame.DataFrame'>\n",
      "RangeIndex: 14775 entries, 0 to 14774\n",
      "Data columns (total 4 columns):\n",
      " #   Column               Non-Null Count  Dtype \n",
      "---  ------               --------------  ----- \n",
      " 0   work_id              14775 non-null  int64 \n",
      " 1   url                  14775 non-null  object\n",
      " 2   thumbnail_small_url  14773 non-null  object\n",
      " 3   thumbnail_large_url  14773 non-null  object\n",
      "dtypes: int64(1), object(3)\n",
      "memory usage: 461.8+ KB\n"
     ]
    }
   ],
   "source": [
    "df_image_link.info()"
   ]
  },
  {
   "cell_type": "markdown",
   "metadata": {},
   "source": [
    "##### Data Cleaning"
   ]
  },
  {
   "cell_type": "code",
   "execution_count": 40,
   "metadata": {},
   "outputs": [
    {
     "data": {
      "text/plain": [
       "60"
      ]
     },
     "execution_count": 40,
     "metadata": {},
     "output_type": "execute_result"
    }
   ],
   "source": [
    "# Check for duplicates\n",
    "df_image_link.duplicated().sum()"
   ]
  },
  {
   "cell_type": "code",
   "execution_count": 41,
   "metadata": {},
   "outputs": [
    {
     "data": {
      "text/plain": [
       "(14715, 4)"
      ]
     },
     "execution_count": 41,
     "metadata": {},
     "output_type": "execute_result"
    }
   ],
   "source": [
    "df_image_link = df_image_link.drop_duplicates()\n",
    "df_image_link.shape"
   ]
  },
  {
   "cell_type": "code",
   "execution_count": 42,
   "metadata": {},
   "outputs": [
    {
     "data": {
      "text/plain": [
       "work_id                0\n",
       "url                    0\n",
       "thumbnail_small_url    2\n",
       "thumbnail_large_url    2\n",
       "dtype: int64"
      ]
     },
     "execution_count": 42,
     "metadata": {},
     "output_type": "execute_result"
    }
   ],
   "source": [
    "# Missing Values\n",
    "df_image_link.isnull().sum()"
   ]
  },
  {
   "cell_type": "code",
   "execution_count": 43,
   "metadata": {},
   "outputs": [],
   "source": [
    "# Remove all row in specified columns where al least 1 value is missing\n",
    "df_image_link.loc[:, ['thumbnail_small_url','thumbnail_large_url']].dropna(inplace=True)"
   ]
  },
  {
   "cell_type": "code",
   "execution_count": 44,
   "metadata": {},
   "outputs": [
    {
     "data": {
      "text/plain": [
       "work_id                0\n",
       "url                    0\n",
       "thumbnail_small_url    2\n",
       "thumbnail_large_url    2\n",
       "dtype: int64"
      ]
     },
     "execution_count": 44,
     "metadata": {},
     "output_type": "execute_result"
    }
   ],
   "source": [
    "df_image_link.isnull().sum()"
   ]
  },
  {
   "cell_type": "code",
   "execution_count": 45,
   "metadata": {},
   "outputs": [
    {
     "name": "stdout",
     "output_type": "stream",
     "text": [
      "work_id                0\n",
      "url                    0\n",
      "thumbnail_small_url    0\n",
      "thumbnail_large_url    0\n",
      "dtype: int64\n"
     ]
    }
   ],
   "source": [
    "# Remove all row in specified columns where al least 1 value is missing\n",
    "specified_columns = ['thumbnail_small_url', 'thumbnail_large_url']\n",
    "\n",
    "# Remove rows with missing values in specified columns\n",
    "df_image_link.dropna(subset=specified_columns, inplace=True)\n",
    "\n",
    "# Check for missing values again to confirm\n",
    "print(df_image_link.isnull().sum())\n"
   ]
  },
  {
   "cell_type": "markdown",
   "metadata": {},
   "source": [
    "### 8- Canvas Size"
   ]
  },
  {
   "cell_type": "code",
   "execution_count": 46,
   "metadata": {},
   "outputs": [
    {
     "data": {
      "text/html": [
       "<div>\n",
       "<style scoped>\n",
       "    .dataframe tbody tr th:only-of-type {\n",
       "        vertical-align: middle;\n",
       "    }\n",
       "\n",
       "    .dataframe tbody tr th {\n",
       "        vertical-align: top;\n",
       "    }\n",
       "\n",
       "    .dataframe thead th {\n",
       "        text-align: right;\n",
       "    }\n",
       "</style>\n",
       "<table border=\"1\" class=\"dataframe\">\n",
       "  <thead>\n",
       "    <tr style=\"text-align: right;\">\n",
       "      <th></th>\n",
       "      <th>size_id</th>\n",
       "      <th>width</th>\n",
       "      <th>height</th>\n",
       "      <th>label</th>\n",
       "    </tr>\n",
       "  </thead>\n",
       "  <tbody>\n",
       "    <tr>\n",
       "      <th>0</th>\n",
       "      <td>20</td>\n",
       "      <td>20</td>\n",
       "      <td>NaN</td>\n",
       "      <td>20\" Long Edge</td>\n",
       "    </tr>\n",
       "    <tr>\n",
       "      <th>1</th>\n",
       "      <td>24</td>\n",
       "      <td>24</td>\n",
       "      <td>NaN</td>\n",
       "      <td>24\" Long Edge</td>\n",
       "    </tr>\n",
       "    <tr>\n",
       "      <th>2</th>\n",
       "      <td>30</td>\n",
       "      <td>30</td>\n",
       "      <td>NaN</td>\n",
       "      <td>30\" Long Edge</td>\n",
       "    </tr>\n",
       "    <tr>\n",
       "      <th>3</th>\n",
       "      <td>36</td>\n",
       "      <td>36</td>\n",
       "      <td>NaN</td>\n",
       "      <td>36\" Long Edge</td>\n",
       "    </tr>\n",
       "    <tr>\n",
       "      <th>4</th>\n",
       "      <td>40</td>\n",
       "      <td>40</td>\n",
       "      <td>NaN</td>\n",
       "      <td>40\" Long Edge</td>\n",
       "    </tr>\n",
       "  </tbody>\n",
       "</table>\n",
       "</div>"
      ],
      "text/plain": [
       "   size_id  width  height          label\n",
       "0       20     20     NaN  20\" Long Edge\n",
       "1       24     24     NaN  24\" Long Edge\n",
       "2       30     30     NaN  30\" Long Edge\n",
       "3       36     36     NaN  36\" Long Edge\n",
       "4       40     40     NaN  40\" Long Edge"
      ]
     },
     "execution_count": 46,
     "metadata": {},
     "output_type": "execute_result"
    }
   ],
   "source": [
    "df_canvas_size = pd.read_csv('C:\\painting\\dataset\\canvas_size.csv')\n",
    "df_canvas_size.head()"
   ]
  },
  {
   "cell_type": "code",
   "execution_count": 47,
   "metadata": {},
   "outputs": [
    {
     "data": {
      "text/plain": [
       "(200, 4)"
      ]
     },
     "execution_count": 47,
     "metadata": {},
     "output_type": "execute_result"
    }
   ],
   "source": [
    "df_canvas_size.shape"
   ]
  },
  {
   "cell_type": "code",
   "execution_count": 48,
   "metadata": {},
   "outputs": [
    {
     "name": "stdout",
     "output_type": "stream",
     "text": [
      "<class 'pandas.core.frame.DataFrame'>\n",
      "RangeIndex: 200 entries, 0 to 199\n",
      "Data columns (total 4 columns):\n",
      " #   Column   Non-Null Count  Dtype  \n",
      "---  ------   --------------  -----  \n",
      " 0   size_id  200 non-null    int64  \n",
      " 1   width    200 non-null    int64  \n",
      " 2   height   193 non-null    float64\n",
      " 3   label    200 non-null    object \n",
      "dtypes: float64(1), int64(2), object(1)\n",
      "memory usage: 6.4+ KB\n"
     ]
    }
   ],
   "source": [
    "df_canvas_size.info()"
   ]
  },
  {
   "cell_type": "markdown",
   "metadata": {},
   "source": [
    "##### Data Cleaning"
   ]
  },
  {
   "cell_type": "code",
   "execution_count": 49,
   "metadata": {},
   "outputs": [
    {
     "data": {
      "text/plain": [
       "0"
      ]
     },
     "execution_count": 49,
     "metadata": {},
     "output_type": "execute_result"
    }
   ],
   "source": [
    "# Check for duplicates\n",
    "df_canvas_size.duplicated().sum()"
   ]
  },
  {
   "cell_type": "code",
   "execution_count": 50,
   "metadata": {},
   "outputs": [
    {
     "data": {
      "text/plain": [
       "size_id    0\n",
       "width      0\n",
       "height     7\n",
       "label      0\n",
       "dtype: int64"
      ]
     },
     "execution_count": 50,
     "metadata": {},
     "output_type": "execute_result"
    }
   ],
   "source": [
    "# Check for missing values\n",
    "df_canvas_size.isnull().sum()"
   ]
  },
  {
   "cell_type": "markdown",
   "metadata": {},
   "source": [
    "# SQL Data Analysis"
   ]
  },
  {
   "cell_type": "code",
   "execution_count": 51,
   "metadata": {},
   "outputs": [],
   "source": [
    "import mysql.connector"
   ]
  },
  {
   "cell_type": "code",
   "execution_count": 52,
   "metadata": {},
   "outputs": [],
   "source": [
    "\n",
    "\n",
    "# Initialize a new engine that can interface with the SQLite database\n",
    "engine = create_engine('sqlite:///paintings.db')\n",
    "\n"
   ]
  },
  {
   "cell_type": "code",
   "execution_count": 53,
   "metadata": {},
   "outputs": [],
   "source": [
    "# Connect to the database\n",
    "conn = engine.connect()"
   ]
  },
  {
   "cell_type": "code",
   "execution_count": 54,
   "metadata": {},
   "outputs": [
    {
     "data": {
      "text/plain": [
       "14716"
      ]
     },
     "execution_count": 54,
     "metadata": {},
     "output_type": "execute_result"
    }
   ],
   "source": [
    "# Write Dataframes to SQL Database\n",
    "df_artist.to_sql('artist', engine, if_exists='replace', index=False)\n",
    "df_canvas_size.to_sql('canvas_size', engine, if_exists='replace', index=False)\n",
    "df_image_link.to_sql('image_link', engine, if_exists='replace', index=False)\n",
    "df_museum.to_sql('museum', engine, if_exists='replace', index=False)\n",
    "df_museum_hrs.to_sql('museum_hours', engine, if_exists='replace', index=False)\n",
    "df_product_size.to_sql('product_size', engine, if_exists='replace', index=False)\n",
    "df_subject.to_sql('subject', engine, if_exists='replace', index=False)\n",
    "df_work.to_sql('work', engine, if_exists='replace', index=False)"
   ]
  },
  {
   "cell_type": "code",
   "execution_count": 55,
   "metadata": {},
   "outputs": [],
   "source": [
    "# Load sql extension in Ipython environment\n",
    "%load_ext sql"
   ]
  },
  {
   "cell_type": "code",
   "execution_count": 56,
   "metadata": {},
   "outputs": [],
   "source": [
    "# connect to Sqlite database : paintings\n",
    "%sql sqlite:///paintings.db"
   ]
  },
  {
   "cell_type": "markdown",
   "metadata": {},
   "source": [
    "# SQL Queries"
   ]
  },
  {
   "cell_type": "code",
   "execution_count": 57,
   "metadata": {},
   "outputs": [
    {
     "name": "stdout",
     "output_type": "stream",
     "text": [
      " * sqlite:///paintings.db\n",
      "Done.\n"
     ]
    },
    {
     "data": {
      "text/html": [
       "<table>\n",
       "    <thead>\n",
       "        <tr>\n",
       "            <th>name</th>\n",
       "        </tr>\n",
       "    </thead>\n",
       "    <tbody>\n",
       "        <tr>\n",
       "            <td>artist</td>\n",
       "        </tr>\n",
       "        <tr>\n",
       "            <td>canvas_size</td>\n",
       "        </tr>\n",
       "        <tr>\n",
       "            <td>image_link</td>\n",
       "        </tr>\n",
       "        <tr>\n",
       "            <td>museum</td>\n",
       "        </tr>\n",
       "        <tr>\n",
       "            <td>museum_hours</td>\n",
       "        </tr>\n",
       "        <tr>\n",
       "            <td>product_size</td>\n",
       "        </tr>\n",
       "        <tr>\n",
       "            <td>subject</td>\n",
       "        </tr>\n",
       "        <tr>\n",
       "            <td>work</td>\n",
       "        </tr>\n",
       "    </tbody>\n",
       "</table>"
      ],
      "text/plain": [
       "[('artist',),\n",
       " ('canvas_size',),\n",
       " ('image_link',),\n",
       " ('museum',),\n",
       " ('museum_hours',),\n",
       " ('product_size',),\n",
       " ('subject',),\n",
       " ('work',)]"
      ]
     },
     "execution_count": 57,
     "metadata": {},
     "output_type": "execute_result"
    }
   ],
   "source": [
    "%%sql\n",
    "-- List alltables in the database\n",
    "SELECT name FROM sqlite_master WHERE type='table';"
   ]
  },
  {
   "cell_type": "markdown",
   "metadata": {},
   "source": [
    "# 1- Fetch all the paintings which are not displayed at any museums"
   ]
  },
  {
   "cell_type": "code",
   "execution_count": 58,
   "metadata": {},
   "outputs": [
    {
     "name": "stdout",
     "output_type": "stream",
     "text": [
      " * sqlite:///paintings.db\n",
      "Done.\n"
     ]
    },
    {
     "data": {
      "text/html": [
       "<table>\n",
       "    <thead>\n",
       "        <tr>\n",
       "            <th>work_id</th>\n",
       "            <th>name</th>\n",
       "            <th>artist_id</th>\n",
       "            <th>style</th>\n",
       "            <th>museum_id</th>\n",
       "        </tr>\n",
       "    </thead>\n",
       "    <tbody>\n",
       "        <tr>\n",
       "            <td>125752</td>\n",
       "            <td>Arabian Horses at Pasture</td>\n",
       "            <td>757</td>\n",
       "            <td>Baroque</td>\n",
       "            <td>None</td>\n",
       "        </tr>\n",
       "        <tr>\n",
       "            <td>125818</td>\n",
       "            <td>Count Halm on His Basedow Estate</td>\n",
       "            <td>757</td>\n",
       "            <td>Baroque</td>\n",
       "            <td>None</td>\n",
       "        </tr>\n",
       "        <tr>\n",
       "            <td>125763</td>\n",
       "            <td>Napoleon Before the Burning City of Smolensk</td>\n",
       "            <td>757</td>\n",
       "            <td>Baroque</td>\n",
       "            <td>None</td>\n",
       "        </tr>\n",
       "        <tr>\n",
       "            <td>125774</td>\n",
       "            <td>Peasants Resting in the Field</td>\n",
       "            <td>757</td>\n",
       "            <td>Baroque</td>\n",
       "            <td>None</td>\n",
       "        </tr>\n",
       "        <tr>\n",
       "            <td>125785</td>\n",
       "            <td>Portrait Oberleutnant Theodor Von Klein</td>\n",
       "            <td>757</td>\n",
       "            <td>Baroque</td>\n",
       "            <td>None</td>\n",
       "        </tr>\n",
       "        <tr>\n",
       "            <td>125796</td>\n",
       "            <td>The Rescue of Count Munnich</td>\n",
       "            <td>757</td>\n",
       "            <td>Baroque</td>\n",
       "            <td>None</td>\n",
       "        </tr>\n",
       "        <tr>\n",
       "            <td>125807</td>\n",
       "            <td>The Stable Yard</td>\n",
       "            <td>757</td>\n",
       "            <td>Baroque</td>\n",
       "            <td>None</td>\n",
       "        </tr>\n",
       "        <tr>\n",
       "            <td>24532</td>\n",
       "            <td>Jacob A. Stamler Departing Le Havre</td>\n",
       "            <td>563</td>\n",
       "            <td>None</td>\n",
       "            <td>None</td>\n",
       "        </tr>\n",
       "        <tr>\n",
       "            <td>124470</td>\n",
       "            <td>Kaleda off Le Havre</td>\n",
       "            <td>563</td>\n",
       "            <td>None</td>\n",
       "            <td>None</td>\n",
       "        </tr>\n",
       "        <tr>\n",
       "            <td>124479</td>\n",
       "            <td>R. Bell &amp;amp; Co. Steamship Bothal in a Heavy Swell</td>\n",
       "            <td>563</td>\n",
       "            <td>None</td>\n",
       "            <td>None</td>\n",
       "        </tr>\n",
       "    </tbody>\n",
       "</table>"
      ],
      "text/plain": [
       "[(125752, 'Arabian Horses at Pasture', 757, 'Baroque', None),\n",
       " (125818, 'Count Halm on His Basedow Estate', 757, 'Baroque', None),\n",
       " (125763, 'Napoleon Before the Burning City of Smolensk', 757, 'Baroque', None),\n",
       " (125774, 'Peasants Resting in the Field', 757, 'Baroque', None),\n",
       " (125785, 'Portrait Oberleutnant Theodor Von Klein', 757, 'Baroque', None),\n",
       " (125796, 'The Rescue of Count Munnich', 757, 'Baroque', None),\n",
       " (125807, 'The Stable Yard', 757, 'Baroque', None),\n",
       " (24532, 'Jacob A. Stamler Departing Le Havre', 563, None, None),\n",
       " (124470, 'Kaleda off Le Havre', 563, None, None),\n",
       " (124479, 'R. Bell &amp; Co. Steamship Bothal in a Heavy Swell', 563, None, None)]"
      ]
     },
     "execution_count": 58,
     "metadata": {},
     "output_type": "execute_result"
    }
   ],
   "source": [
    "%%sql\n",
    "SELECT * \n",
    "FROM work\n",
    "WHERE museum_id IS NULL\n",
    "LIMIT 10;"
   ]
  },
  {
   "cell_type": "markdown",
   "metadata": {},
   "source": [
    "# 2- Are there any museums without any paintings?"
   ]
  },
  {
   "cell_type": "code",
   "execution_count": 59,
   "metadata": {},
   "outputs": [
    {
     "name": "stdout",
     "output_type": "stream",
     "text": [
      " * sqlite:///paintings.db\n",
      "Done.\n"
     ]
    },
    {
     "data": {
      "text/html": [
       "<table>\n",
       "    <thead>\n",
       "        <tr>\n",
       "            <th>museum_id</th>\n",
       "            <th>name</th>\n",
       "            <th>address</th>\n",
       "            <th>city</th>\n",
       "            <th>state</th>\n",
       "            <th>postal</th>\n",
       "            <th>country</th>\n",
       "            <th>phone</th>\n",
       "            <th>url</th>\n",
       "            <th>work_id</th>\n",
       "            <th>name_1</th>\n",
       "            <th>artist_id</th>\n",
       "            <th>style</th>\n",
       "            <th>museum_id_1</th>\n",
       "        </tr>\n",
       "    </thead>\n",
       "    <tbody>\n",
       "    </tbody>\n",
       "</table>"
      ],
      "text/plain": [
       "[]"
      ]
     },
     "execution_count": 59,
     "metadata": {},
     "output_type": "execute_result"
    }
   ],
   "source": [
    "%%sql\n",
    "SELECT *\n",
    "FROM museum AS m\n",
    "LEFT JOIN work AS w\n",
    "    ON m.museum_id = w.museum_id\n",
    "    WHERE w.museum_id IS NULL;"
   ]
  },
  {
   "cell_type": "markdown",
   "metadata": {},
   "source": [
    "# 3- How many painting have asking price which more than their regular price?"
   ]
  },
  {
   "cell_type": "code",
   "execution_count": 60,
   "metadata": {},
   "outputs": [
    {
     "name": "stdout",
     "output_type": "stream",
     "text": [
      " * sqlite:///paintings.db\n",
      "Done.\n"
     ]
    },
    {
     "data": {
      "text/html": [
       "<table>\n",
       "    <thead>\n",
       "        <tr>\n",
       "            <th>work_id</th>\n",
       "            <th>size_id</th>\n",
       "            <th>sale_price</th>\n",
       "            <th>regular_price</th>\n",
       "        </tr>\n",
       "    </thead>\n",
       "    <tbody>\n",
       "    </tbody>\n",
       "</table>"
      ],
      "text/plain": [
       "[]"
      ]
     },
     "execution_count": 60,
     "metadata": {},
     "output_type": "execute_result"
    }
   ],
   "source": [
    "%%sql\n",
    "SELECT *\n",
    "FROM product_size\n",
    "WHERE sale_price > regular_price;"
   ]
  },
  {
   "cell_type": "markdown",
   "metadata": {},
   "source": [
    "# 4- Identify the paintings whose asking price is less than 50% of its regular price"
   ]
  },
  {
   "cell_type": "code",
   "execution_count": 61,
   "metadata": {},
   "outputs": [
    {
     "name": "stdout",
     "output_type": "stream",
     "text": [
      " * sqlite:///paintings.db\n",
      "Done.\n"
     ]
    },
    {
     "data": {
      "text/html": [
       "<table>\n",
       "    <thead>\n",
       "        <tr>\n",
       "            <th>work_id</th>\n",
       "            <th>size_id</th>\n",
       "            <th>sale_price</th>\n",
       "            <th>regular_price</th>\n",
       "        </tr>\n",
       "    </thead>\n",
       "    <tbody>\n",
       "        <tr>\n",
       "            <td>31780</td>\n",
       "            <td>36</td>\n",
       "            <td>10</td>\n",
       "            <td>125</td>\n",
       "        </tr>\n",
       "        <tr>\n",
       "            <td>31780</td>\n",
       "            <td>30</td>\n",
       "            <td>10</td>\n",
       "            <td>95</td>\n",
       "        </tr>\n",
       "        <tr>\n",
       "            <td>198417</td>\n",
       "            <td>36</td>\n",
       "            <td>30</td>\n",
       "            <td>125</td>\n",
       "        </tr>\n",
       "        <tr>\n",
       "            <td>198417</td>\n",
       "            <td>30</td>\n",
       "            <td>30</td>\n",
       "            <td>95</td>\n",
       "        </tr>\n",
       "        <tr>\n",
       "            <td>31974</td>\n",
       "            <td>24</td>\n",
       "            <td>30</td>\n",
       "            <td>85</td>\n",
       "        </tr>\n",
       "        <tr>\n",
       "            <td>17351</td>\n",
       "            <td>24</td>\n",
       "            <td>10</td>\n",
       "            <td>85</td>\n",
       "        </tr>\n",
       "        <tr>\n",
       "            <td>17351</td>\n",
       "            <td>30</td>\n",
       "            <td>10</td>\n",
       "            <td>95</td>\n",
       "        </tr>\n",
       "        <tr>\n",
       "            <td>17351</td>\n",
       "            <td>36</td>\n",
       "            <td>10</td>\n",
       "            <td>125</td>\n",
       "        </tr>\n",
       "        <tr>\n",
       "            <td>30947</td>\n",
       "            <td>3024</td>\n",
       "            <td>285</td>\n",
       "            <td>575</td>\n",
       "        </tr>\n",
       "        <tr>\n",
       "            <td>30947</td>\n",
       "            <td>3226</td>\n",
       "            <td>305</td>\n",
       "            <td>645</td>\n",
       "        </tr>\n",
       "        <tr>\n",
       "            <td>23710</td>\n",
       "            <td>30</td>\n",
       "            <td>20</td>\n",
       "            <td>95</td>\n",
       "        </tr>\n",
       "        <tr>\n",
       "            <td>23710</td>\n",
       "            <td>24</td>\n",
       "            <td>20</td>\n",
       "            <td>85</td>\n",
       "        </tr>\n",
       "        <tr>\n",
       "            <td>20084</td>\n",
       "            <td>6040</td>\n",
       "            <td>585</td>\n",
       "            <td>1245</td>\n",
       "        </tr>\n",
       "        <tr>\n",
       "            <td>133971</td>\n",
       "            <td>#VALUE!</td>\n",
       "            <td>1025</td>\n",
       "            <td>2235</td>\n",
       "        </tr>\n",
       "        <tr>\n",
       "            <td>28259</td>\n",
       "            <td>30</td>\n",
       "            <td>40</td>\n",
       "            <td>95</td>\n",
       "        </tr>\n",
       "        <tr>\n",
       "            <td>28259</td>\n",
       "            <td>24</td>\n",
       "            <td>40</td>\n",
       "            <td>85</td>\n",
       "        </tr>\n",
       "        <tr>\n",
       "            <td>28261</td>\n",
       "            <td>24</td>\n",
       "            <td>40</td>\n",
       "            <td>85</td>\n",
       "        </tr>\n",
       "        <tr>\n",
       "            <td>28261</td>\n",
       "            <td>30</td>\n",
       "            <td>40</td>\n",
       "            <td>95</td>\n",
       "        </tr>\n",
       "        <tr>\n",
       "            <td>28273</td>\n",
       "            <td>24</td>\n",
       "            <td>40</td>\n",
       "            <td>85</td>\n",
       "        </tr>\n",
       "        <tr>\n",
       "            <td>28273</td>\n",
       "            <td>30</td>\n",
       "            <td>40</td>\n",
       "            <td>95</td>\n",
       "        </tr>\n",
       "    </tbody>\n",
       "</table>"
      ],
      "text/plain": [
       "[(31780, '36', 10, 125),\n",
       " (31780, '30', 10, 95),\n",
       " (198417, '36', 30, 125),\n",
       " (198417, '30', 30, 95),\n",
       " (31974, '24', 30, 85),\n",
       " (17351, '24', 10, 85),\n",
       " (17351, '30', 10, 95),\n",
       " (17351, '36', 10, 125),\n",
       " (30947, '3024', 285, 575),\n",
       " (30947, '3226', 305, 645),\n",
       " (23710, '30', 20, 95),\n",
       " (23710, '24', 20, 85),\n",
       " (20084, '6040', 585, 1245),\n",
       " (133971, '#VALUE!', 1025, 2235),\n",
       " (28259, '30', 40, 95),\n",
       " (28259, '24', 40, 85),\n",
       " (28261, '24', 40, 85),\n",
       " (28261, '30', 40, 95),\n",
       " (28273, '24', 40, 85),\n",
       " (28273, '30', 40, 95)]"
      ]
     },
     "execution_count": 61,
     "metadata": {},
     "output_type": "execute_result"
    }
   ],
   "source": [
    "%%sql\n",
    "SELECT * \n",
    "FROM product_size\n",
    "WHERE sale_price < (regular_price*0.5)\n",
    "LIMIT 20;"
   ]
  },
  {
   "cell_type": "markdown",
   "metadata": {},
   "source": [
    "# 5- Which canva size costs the most?"
   ]
  },
  {
   "cell_type": "code",
   "execution_count": 77,
   "metadata": {},
   "outputs": [
    {
     "name": "stdout",
     "output_type": "stream",
     "text": [
      " * sqlite:///paintings.db\n",
      "Done.\n"
     ]
    },
    {
     "data": {
      "text/html": [
       "<table>\n",
       "    <thead>\n",
       "        <tr>\n",
       "            <th>canvas</th>\n",
       "            <th>sale_price</th>\n",
       "        </tr>\n",
       "    </thead>\n",
       "    <tbody>\n",
       "        <tr>\n",
       "            <td>48&quot; x 96&quot;(122 cm x 244 cm)</td>\n",
       "            <td>1115</td>\n",
       "        </tr>\n",
       "    </tbody>\n",
       "</table>"
      ],
      "text/plain": [
       "[('48\" x 96\"(122 cm x 244 cm)', 1115)]"
      ]
     },
     "execution_count": 77,
     "metadata": {},
     "output_type": "execute_result"
    }
   ],
   "source": [
    "%%sql\n",
    "SELECT \n",
    "    cs.label AS canvas,\n",
    "    ps.sale_price\n",
    "FROM (\n",
    "    SELECT \n",
    "        *,\n",
    "        RANK() OVER (ORDER BY sale_price DESC) AS rnk \n",
    "    FROM \n",
    "        product_size\n",
    ") AS ps\n",
    "JOIN \n",
    "    canvas_size AS cs ON cs.size_id = ps.size_id\n",
    "WHERE \n",
    "    ps.rnk = 1;\n",
    "\n"
   ]
  },
  {
   "cell_type": "markdown",
   "metadata": {},
   "source": [
    "# 6- Fetch the most 10 famous painting subject"
   ]
  },
  {
   "cell_type": "code",
   "execution_count": 64,
   "metadata": {},
   "outputs": [
    {
     "name": "stdout",
     "output_type": "stream",
     "text": [
      " * sqlite:///paintings.db\n",
      "Done.\n"
     ]
    },
    {
     "data": {
      "text/html": [
       "<table>\n",
       "    <thead>\n",
       "        <tr>\n",
       "            <th>subject</th>\n",
       "            <th>nr_of_paintings</th>\n",
       "        </tr>\n",
       "    </thead>\n",
       "    <tbody>\n",
       "        <tr>\n",
       "            <td>Portraits</td>\n",
       "            <td>1070</td>\n",
       "        </tr>\n",
       "        <tr>\n",
       "            <td>Nude</td>\n",
       "            <td>525</td>\n",
       "        </tr>\n",
       "        <tr>\n",
       "            <td>Landscape Art</td>\n",
       "            <td>495</td>\n",
       "        </tr>\n",
       "        <tr>\n",
       "            <td>Rivers/Lakes</td>\n",
       "            <td>480</td>\n",
       "        </tr>\n",
       "        <tr>\n",
       "            <td>Flowers</td>\n",
       "            <td>457</td>\n",
       "        </tr>\n",
       "        <tr>\n",
       "            <td>Abstract/Modern Art</td>\n",
       "            <td>399</td>\n",
       "        </tr>\n",
       "        <tr>\n",
       "            <td>Still-Life</td>\n",
       "            <td>395</td>\n",
       "        </tr>\n",
       "        <tr>\n",
       "            <td>Seascapes</td>\n",
       "            <td>323</td>\n",
       "        </tr>\n",
       "        <tr>\n",
       "            <td>Marine Art/Maritime</td>\n",
       "            <td>268</td>\n",
       "        </tr>\n",
       "        <tr>\n",
       "            <td>Horses</td>\n",
       "            <td>265</td>\n",
       "        </tr>\n",
       "    </tbody>\n",
       "</table>"
      ],
      "text/plain": [
       "[('Portraits', 1070),\n",
       " ('Nude', 525),\n",
       " ('Landscape Art', 495),\n",
       " ('Rivers/Lakes', 480),\n",
       " ('Flowers', 457),\n",
       " ('Abstract/Modern Art', 399),\n",
       " ('Still-Life', 395),\n",
       " ('Seascapes', 323),\n",
       " ('Marine Art/Maritime', 268),\n",
       " ('Horses', 265)]"
      ]
     },
     "execution_count": 64,
     "metadata": {},
     "output_type": "execute_result"
    }
   ],
   "source": [
    "%%sql\n",
    "SELECT \n",
    "  subject,\n",
    "  COUNT(*) AS nr_of_paintings\n",
    "FROM subject\n",
    "GROUP BY 1\n",
    "ORDER BY nr_of_paintings DESC\n",
    "LIMIT 10;"
   ]
  },
  {
   "cell_type": "markdown",
   "metadata": {},
   "source": [
    "# 7- Identify the museums which are open both Sunday and Monday"
   ]
  },
  {
   "cell_type": "markdown",
   "metadata": {},
   "source": [
    "### Display museum name and city"
   ]
  },
  {
   "cell_type": "code",
   "execution_count": 65,
   "metadata": {},
   "outputs": [
    {
     "name": "stdout",
     "output_type": "stream",
     "text": [
      " * sqlite:///paintings.db\n",
      "Done.\n"
     ]
    },
    {
     "data": {
      "text/html": [
       "<table>\n",
       "    <thead>\n",
       "        <tr>\n",
       "            <th>museum_name</th>\n",
       "            <th>city</th>\n",
       "            <th>state</th>\n",
       "            <th>country</th>\n",
       "        </tr>\n",
       "    </thead>\n",
       "    <tbody>\n",
       "        <tr>\n",
       "            <td>The Museum of Modern Art</td>\n",
       "            <td>New York</td>\n",
       "            <td>NY</td>\n",
       "            <td>USA</td>\n",
       "        </tr>\n",
       "        <tr>\n",
       "            <td>Pushkin State Museum of Fine Arts</td>\n",
       "            <td>Moscow</td>\n",
       "            <td>None</td>\n",
       "            <td>Russia</td>\n",
       "        </tr>\n",
       "        <tr>\n",
       "            <td>National Gallery of Victoria</td>\n",
       "            <td>Melbourne</td>\n",
       "            <td>Victoria</td>\n",
       "            <td>Australia</td>\n",
       "        </tr>\n",
       "        <tr>\n",
       "            <td>The Metropolitan Museum of Art</td>\n",
       "            <td>New York</td>\n",
       "            <td>NY</td>\n",
       "            <td>USA</td>\n",
       "        </tr>\n",
       "        <tr>\n",
       "            <td>Museum of Grenoble</td>\n",
       "            <td>38000</td>\n",
       "            <td>Grenoble</td>\n",
       "            <td>France</td>\n",
       "        </tr>\n",
       "        <tr>\n",
       "            <td>Nelson-Atkins Museum of Art</td>\n",
       "            <td>Kansas City</td>\n",
       "            <td>MO</td>\n",
       "            <td>USA</td>\n",
       "        </tr>\n",
       "        <tr>\n",
       "            <td>Musée du Louvre</td>\n",
       "            <td>75001</td>\n",
       "            <td>Paris</td>\n",
       "            <td>France</td>\n",
       "        </tr>\n",
       "        <tr>\n",
       "            <td>National Maritime Museum</td>\n",
       "            <td>London</td>\n",
       "            <td>SE10 9NF</td>\n",
       "            <td>United Kingdom</td>\n",
       "        </tr>\n",
       "        <tr>\n",
       "            <td>Museum of Fine Arts Boston</td>\n",
       "            <td>Boston</td>\n",
       "            <td>MA</td>\n",
       "            <td>USA</td>\n",
       "        </tr>\n",
       "        <tr>\n",
       "            <td>Rijksmuseum</td>\n",
       "            <td>Amsterdam</td>\n",
       "            <td>None</td>\n",
       "            <td>Netherlands</td>\n",
       "        </tr>\n",
       "        <tr>\n",
       "            <td>Israel Museum</td>\n",
       "            <td>Jerusalem</td>\n",
       "            <td>None</td>\n",
       "            <td>Israel</td>\n",
       "        </tr>\n",
       "        <tr>\n",
       "            <td>National Gallery of Art</td>\n",
       "            <td>Washington</td>\n",
       "            <td>DC</td>\n",
       "            <td>USA</td>\n",
       "        </tr>\n",
       "        <tr>\n",
       "            <td>National Gallery</td>\n",
       "            <td>London</td>\n",
       "            <td>England</td>\n",
       "            <td>UK</td>\n",
       "        </tr>\n",
       "        <tr>\n",
       "            <td>Mauritshuis Museum</td>\n",
       "            <td>Den Haag</td>\n",
       "            <td>None</td>\n",
       "            <td>Netherlands</td>\n",
       "        </tr>\n",
       "        <tr>\n",
       "            <td>The Prado Museum</td>\n",
       "            <td>Madrid</td>\n",
       "            <td>None</td>\n",
       "            <td>Spain</td>\n",
       "        </tr>\n",
       "        <tr>\n",
       "            <td>The Barnes Foundation</td>\n",
       "            <td>Philadelphia</td>\n",
       "            <td>PA</td>\n",
       "            <td>USA</td>\n",
       "        </tr>\n",
       "        <tr>\n",
       "            <td>Van Gogh Museum</td>\n",
       "            <td>Amsterdam</td>\n",
       "            <td>None</td>\n",
       "            <td>Netherlands</td>\n",
       "        </tr>\n",
       "        <tr>\n",
       "            <td>Los Angeles County Museum of Art</td>\n",
       "            <td>Los Angeles</td>\n",
       "            <td>CA</td>\n",
       "            <td>USA</td>\n",
       "        </tr>\n",
       "        <tr>\n",
       "            <td>Solomon R. Guggenheim Museum</td>\n",
       "            <td>New York</td>\n",
       "            <td>NY</td>\n",
       "            <td>USA</td>\n",
       "        </tr>\n",
       "        <tr>\n",
       "            <td>The Tate Gallery</td>\n",
       "            <td>London</td>\n",
       "            <td>England</td>\n",
       "            <td>UK</td>\n",
       "        </tr>\n",
       "        <tr>\n",
       "            <td>Museum of Fine Arts of Nancy</td>\n",
       "            <td>Nancy</td>\n",
       "            <td>None</td>\n",
       "            <td>France</td>\n",
       "        </tr>\n",
       "        <tr>\n",
       "            <td>Smithsonian American Art Museum</td>\n",
       "            <td>Washington</td>\n",
       "            <td>DC</td>\n",
       "            <td>USA</td>\n",
       "        </tr>\n",
       "        <tr>\n",
       "            <td>Philadelphia Museum of Art</td>\n",
       "            <td>Philadelphia</td>\n",
       "            <td>PA</td>\n",
       "            <td>USA</td>\n",
       "        </tr>\n",
       "        <tr>\n",
       "            <td>The Art Institute of Chicago</td>\n",
       "            <td>Chicago</td>\n",
       "            <td>IL</td>\n",
       "            <td>USA</td>\n",
       "        </tr>\n",
       "        <tr>\n",
       "            <td>Army Museum</td>\n",
       "            <td>Paris</td>\n",
       "            <td>None</td>\n",
       "            <td>France</td>\n",
       "        </tr>\n",
       "        <tr>\n",
       "            <td>National Gallery Prague</td>\n",
       "            <td>Nové Měst</td>\n",
       "            <td>None</td>\n",
       "            <td>Czechia</td>\n",
       "        </tr>\n",
       "        <tr>\n",
       "            <td>Norton Simon Museum</td>\n",
       "            <td>Pasadena</td>\n",
       "            <td>CA</td>\n",
       "            <td>USA</td>\n",
       "        </tr>\n",
       "        <tr>\n",
       "            <td>Courtauld Gallery</td>\n",
       "            <td>Stran</td>\n",
       "            <td>London</td>\n",
       "            <td>UK</td>\n",
       "        </tr>\n",
       "    </tbody>\n",
       "</table>"
      ],
      "text/plain": [
       "[('The Museum of Modern Art', 'New York', 'NY', 'USA'),\n",
       " ('Pushkin State Museum of Fine Arts', 'Moscow', None, 'Russia'),\n",
       " ('National Gallery of Victoria', 'Melbourne', 'Victoria', 'Australia'),\n",
       " ('The Metropolitan Museum of Art', 'New York', 'NY', 'USA'),\n",
       " ('Museum of Grenoble', '38000', 'Grenoble', 'France'),\n",
       " ('Nelson-Atkins Museum of Art', 'Kansas City', 'MO', 'USA'),\n",
       " ('Musée du Louvre', '75001', 'Paris', 'France'),\n",
       " ('National Maritime Museum', 'London', 'SE10 9NF', 'United Kingdom'),\n",
       " ('Museum of Fine Arts Boston', 'Boston', 'MA', 'USA'),\n",
       " ('Rijksmuseum', 'Amsterdam', None, 'Netherlands'),\n",
       " ('Israel Museum', 'Jerusalem', None, 'Israel'),\n",
       " ('National Gallery of Art', 'Washington', 'DC', 'USA'),\n",
       " ('National Gallery', 'London', 'England', 'UK'),\n",
       " ('Mauritshuis Museum', 'Den Haag', None, 'Netherlands'),\n",
       " ('The Prado Museum', 'Madrid', None, 'Spain'),\n",
       " ('The Barnes Foundation', 'Philadelphia', 'PA', 'USA'),\n",
       " ('Van Gogh Museum', 'Amsterdam', None, 'Netherlands'),\n",
       " ('Los Angeles County Museum of Art', 'Los Angeles', 'CA', 'USA'),\n",
       " ('Solomon R. Guggenheim Museum', 'New York', 'NY', 'USA'),\n",
       " ('The Tate Gallery', 'London', 'England', 'UK'),\n",
       " ('Museum of Fine Arts of Nancy', 'Nancy', None, 'France'),\n",
       " ('Smithsonian American Art Museum', 'Washington', 'DC', 'USA'),\n",
       " ('Philadelphia Museum of Art', 'Philadelphia', 'PA', 'USA'),\n",
       " ('The Art Institute of Chicago', 'Chicago', 'IL', 'USA'),\n",
       " ('Army Museum', 'Paris', None, 'France'),\n",
       " ('National Gallery Prague', 'Nové Měst', None, 'Czechia'),\n",
       " ('Norton Simon Museum', 'Pasadena', 'CA', 'USA'),\n",
       " ('Courtauld Gallery', 'Stran', 'London', 'UK')]"
      ]
     },
     "execution_count": 65,
     "metadata": {},
     "output_type": "execute_result"
    }
   ],
   "source": [
    "%%sql\n",
    "SELECT DISTINCT \n",
    "    m.name AS museum_name,\n",
    "    m.city,\n",
    "    m.state,\n",
    "    m.country\n",
    "FROM \n",
    "    museum_hours mh\n",
    "JOIN \n",
    "    museum m ON m.museum_id = mh.museum_id\n",
    "WHERE \n",
    "    mh.day = 'Sunday'\n",
    "AND EXISTS (\n",
    "    SELECT 1\n",
    "    FROM museum_hours mh2\n",
    "    WHERE mh2.museum_id = mh.museum_id\n",
    "    AND mh2.day = 'Monday'\n",
    ");\n"
   ]
  },
  {
   "cell_type": "markdown",
   "metadata": {},
   "source": [
    "# 8- How many museums are open every single day?"
   ]
  },
  {
   "cell_type": "code",
   "execution_count": 66,
   "metadata": {},
   "outputs": [
    {
     "name": "stdout",
     "output_type": "stream",
     "text": [
      " * sqlite:///paintings.db\n",
      "Done.\n"
     ]
    },
    {
     "data": {
      "text/html": [
       "<table>\n",
       "    <thead>\n",
       "        <tr>\n",
       "            <th>COUNT(1)</th>\n",
       "        </tr>\n",
       "    </thead>\n",
       "    <tbody>\n",
       "        <tr>\n",
       "            <td>17</td>\n",
       "        </tr>\n",
       "    </tbody>\n",
       "</table>"
      ],
      "text/plain": [
       "[(17,)]"
      ]
     },
     "execution_count": 66,
     "metadata": {},
     "output_type": "execute_result"
    }
   ],
   "source": [
    "%%sql\n",
    "SELECT COUNT(1)\n",
    "FROM (\n",
    "    SELECT museum_id, COUNT(1)\n",
    "    FROM museum_hours\n",
    "    GROUP BY museum_id\n",
    "    HAVING COUNT(DISTINCT day) = 7\n",
    ") x;\n"
   ]
  },
  {
   "cell_type": "markdown",
   "metadata": {},
   "source": [
    "# 9- Which are the top most popular museums?"
   ]
  },
  {
   "cell_type": "code",
   "execution_count": 67,
   "metadata": {},
   "outputs": [
    {
     "name": "stdout",
     "output_type": "stream",
     "text": [
      " * sqlite:///paintings.db\n",
      "Done.\n"
     ]
    },
    {
     "data": {
      "text/html": [
       "<table>\n",
       "    <thead>\n",
       "        <tr>\n",
       "            <th>museum_name</th>\n",
       "            <th>nr_of_paintings</th>\n",
       "        </tr>\n",
       "    </thead>\n",
       "    <tbody>\n",
       "        <tr>\n",
       "            <td>The Metropolitan Museum of Art</td>\n",
       "            <td>939</td>\n",
       "        </tr>\n",
       "        <tr>\n",
       "            <td>Rijksmuseum</td>\n",
       "            <td>452</td>\n",
       "        </tr>\n",
       "        <tr>\n",
       "            <td>National Gallery</td>\n",
       "            <td>423</td>\n",
       "        </tr>\n",
       "        <tr>\n",
       "            <td>National Gallery of Art</td>\n",
       "            <td>375</td>\n",
       "        </tr>\n",
       "        <tr>\n",
       "            <td>The Barnes Foundation</td>\n",
       "            <td>350</td>\n",
       "        </tr>\n",
       "    </tbody>\n",
       "</table>"
      ],
      "text/plain": [
       "[('The Metropolitan Museum of Art', 939),\n",
       " ('Rijksmuseum', 452),\n",
       " ('National Gallery', 423),\n",
       " ('National Gallery of Art', 375),\n",
       " ('The Barnes Foundation', 350)]"
      ]
     },
     "execution_count": 67,
     "metadata": {},
     "output_type": "execute_result"
    }
   ],
   "source": [
    "%%sql\n",
    "SELECT  *\n",
    "FROM(\n",
    "  SELECT \n",
    "    m.name AS museum_name,\n",
    "    COUNT(w.work_id) AS nr_of_paintings\n",
    "  FROM museum AS m\n",
    "  JOIN work AS w\n",
    "    ON m.museum_id = w.museum_id\n",
    "  GROUP BY 1) AS museum_painting_counts\n",
    "ORDER BY nr_of_paintings DESC\n",
    "LIMIT 5;"
   ]
  },
  {
   "cell_type": "markdown",
   "metadata": {},
   "source": [
    "# 10- Who are the top 10 most popular artist?"
   ]
  },
  {
   "cell_type": "markdown",
   "metadata": {},
   "source": [
    "#### Populariy is based on most number of paintings done by an artist"
   ]
  },
  {
   "cell_type": "code",
   "execution_count": 68,
   "metadata": {},
   "outputs": [
    {
     "name": "stdout",
     "output_type": "stream",
     "text": [
      " * sqlite:///paintings.db\n",
      "Done.\n"
     ]
    },
    {
     "data": {
      "text/html": [
       "<table>\n",
       "    <thead>\n",
       "        <tr>\n",
       "            <th>artist_name</th>\n",
       "            <th>nr_of_paintings</th>\n",
       "        </tr>\n",
       "    </thead>\n",
       "    <tbody>\n",
       "        <tr>\n",
       "            <td>Pierre-Auguste Renoir</td>\n",
       "            <td>469</td>\n",
       "        </tr>\n",
       "        <tr>\n",
       "            <td>Claude Monet</td>\n",
       "            <td>378</td>\n",
       "        </tr>\n",
       "        <tr>\n",
       "            <td>Vincent Van Gogh</td>\n",
       "            <td>308</td>\n",
       "        </tr>\n",
       "        <tr>\n",
       "            <td>Maurice Utrillo</td>\n",
       "            <td>253</td>\n",
       "        </tr>\n",
       "        <tr>\n",
       "            <td>Albert Marquet</td>\n",
       "            <td>233</td>\n",
       "        </tr>\n",
       "        <tr>\n",
       "            <td>Henri Lebasque</td>\n",
       "            <td>200</td>\n",
       "        </tr>\n",
       "        <tr>\n",
       "            <td>Camille Pissarro</td>\n",
       "            <td>188</td>\n",
       "        </tr>\n",
       "        <tr>\n",
       "            <td>Louis Valtat</td>\n",
       "            <td>184</td>\n",
       "        </tr>\n",
       "        <tr>\n",
       "            <td>Maximilien Luce</td>\n",
       "            <td>174</td>\n",
       "        </tr>\n",
       "        <tr>\n",
       "            <td>Henri Le Sidaner</td>\n",
       "            <td>159</td>\n",
       "        </tr>\n",
       "    </tbody>\n",
       "</table>"
      ],
      "text/plain": [
       "[('Pierre-Auguste Renoir', 469),\n",
       " ('Claude Monet', 378),\n",
       " ('Vincent Van Gogh', 308),\n",
       " ('Maurice Utrillo', 253),\n",
       " ('Albert Marquet', 233),\n",
       " ('Henri Lebasque', 200),\n",
       " ('Camille Pissarro', 188),\n",
       " ('Louis Valtat', 184),\n",
       " ('Maximilien Luce', 174),\n",
       " ('Henri Le Sidaner', 159)]"
      ]
     },
     "execution_count": 68,
     "metadata": {},
     "output_type": "execute_result"
    }
   ],
   "source": [
    "%%sql\n",
    "SELECT *\n",
    "FROM (\n",
    "  SELECT \n",
    "    a.full_name AS artist_name,\n",
    "    COUNT(w.work_id) AS nr_of_paintings\n",
    "  FROM artist AS a\n",
    "  JOIN work AS w\n",
    "    ON a.artist_id = w.artist_id\n",
    "  GROUP BY 1)AS artist_painting_counts\n",
    "ORDER BY nr_of_paintings DESC\n",
    "LIMIT 10;"
   ]
  },
  {
   "cell_type": "markdown",
   "metadata": {},
   "source": [
    "# 11- Display the 3 least popular canvas sizes"
   ]
  },
  {
   "cell_type": "code",
   "execution_count": 69,
   "metadata": {},
   "outputs": [
    {
     "name": "stdout",
     "output_type": "stream",
     "text": [
      " * sqlite:///paintings.db\n",
      "Done.\n"
     ]
    },
    {
     "data": {
      "text/html": [
       "<table>\n",
       "    <thead>\n",
       "        <tr>\n",
       "            <th>canvas_label</th>\n",
       "            <th>nr_of_paintings</th>\n",
       "        </tr>\n",
       "    </thead>\n",
       "    <tbody>\n",
       "        <tr>\n",
       "            <td>24&quot; x 29&quot;(61 cm x 74 cm)</td>\n",
       "            <td>1</td>\n",
       "        </tr>\n",
       "        <tr>\n",
       "            <td>32&quot; x 18&quot;(81 cm x 46 cm)</td>\n",
       "            <td>1</td>\n",
       "        </tr>\n",
       "        <tr>\n",
       "            <td>32&quot; x 46&quot;(81 cm x 117 cm)</td>\n",
       "            <td>1</td>\n",
       "        </tr>\n",
       "    </tbody>\n",
       "</table>"
      ],
      "text/plain": [
       "[('24\" x 29\"(61 cm x 74 cm)', 1),\n",
       " ('32\" x 18\"(81 cm x 46 cm)', 1),\n",
       " ('32\" x 46\"(81 cm x 117 cm)', 1)]"
      ]
     },
     "execution_count": 69,
     "metadata": {},
     "output_type": "execute_result"
    }
   ],
   "source": [
    "%%sql\n",
    "SELECT *\n",
    "FROM (\n",
    "  SELECT\n",
    "    c.label as canvas_label,\n",
    "    COUNT(w.work_id) AS nr_of_paintings\n",
    "  FROM canvas_size AS c\n",
    "  JOIN product_size AS p\n",
    "    ON c.size_id = p.size_id\n",
    "  JOIN work AS w\n",
    "    ON p.work_id = w.work_id\n",
    "  GROUP BY 1\n",
    ")AS canvas_label_painting_counts\n",
    "ORDER BY nr_of_paintings ASC\n",
    "LIMIT 3;"
   ]
  },
  {
   "cell_type": "markdown",
   "metadata": {},
   "source": [
    "# 12-Which museum is open for the longest  during a day?"
   ]
  },
  {
   "cell_type": "markdown",
   "metadata": {},
   "source": [
    "### Display museum name, city and hours open and which day"
   ]
  },
  {
   "cell_type": "code",
   "execution_count": 70,
   "metadata": {},
   "outputs": [
    {
     "name": "stdout",
     "output_type": "stream",
     "text": [
      " * sqlite:///paintings.db\n",
      "Done.\n"
     ]
    },
    {
     "data": {
      "text/html": [
       "<table>\n",
       "    <thead>\n",
       "        <tr>\n",
       "            <th>museum_name</th>\n",
       "            <th>city</th>\n",
       "            <th>day</th>\n",
       "            <th>hrs_open</th>\n",
       "        </tr>\n",
       "    </thead>\n",
       "    <tbody>\n",
       "        <tr>\n",
       "            <td>The Metropolitan Museum of Art</td>\n",
       "            <td>New York</td>\n",
       "            <td>Friday</td>\n",
       "            <td>23</td>\n",
       "        </tr>\n",
       "    </tbody>\n",
       "</table>"
      ],
      "text/plain": [
       "[('The Metropolitan Museum of Art', 'New York', 'Friday', 23)]"
      ]
     },
     "execution_count": 70,
     "metadata": {},
     "output_type": "execute_result"
    }
   ],
   "source": [
    "%%sql\n",
    "SELECT \n",
    "    m.name AS museum_name,\n",
    "    m.city,\n",
    "    mh.day,\n",
    "    CASE\n",
    "        WHEN mh.close > mh.open THEN mh.close - mh.open\n",
    "        ELSE (24 - mh.open) + mh.close\n",
    "    END AS hrs_open\n",
    "FROM museum_hours AS mh\n",
    "JOIN museum AS m\n",
    "    ON mh.museum_id = m.museum_id\n",
    "ORDER BY hrs_open DESC\n",
    "LIMIT 1;\n"
   ]
  },
  {
   "cell_type": "markdown",
   "metadata": {},
   "source": [
    "# 13- Which museum has the most painting style?"
   ]
  },
  {
   "cell_type": "code",
   "execution_count": 71,
   "metadata": {},
   "outputs": [
    {
     "name": "stdout",
     "output_type": "stream",
     "text": [
      " * sqlite:///paintings.db\n",
      "Done.\n"
     ]
    },
    {
     "data": {
      "text/html": [
       "<table>\n",
       "    <thead>\n",
       "        <tr>\n",
       "            <th>name</th>\n",
       "            <th>nr_of_painting_styles</th>\n",
       "        </tr>\n",
       "    </thead>\n",
       "    <tbody>\n",
       "        <tr>\n",
       "            <td>The Metropolitan Museum of Art</td>\n",
       "            <td>851</td>\n",
       "        </tr>\n",
       "    </tbody>\n",
       "</table>"
      ],
      "text/plain": [
       "[('The Metropolitan Museum of Art', 851)]"
      ]
     },
     "execution_count": 71,
     "metadata": {},
     "output_type": "execute_result"
    }
   ],
   "source": [
    "%%sql\n",
    "SELECT \n",
    "    m.name,\n",
    "    COUNT(w.style) AS nr_of_painting_styles\n",
    "FROM work AS w\n",
    "JOIN museum AS m\n",
    "    ON w.museum_id = m.museum_id\n",
    "GROUP BY 1\n",
    "ORDER BY nr_of_painting_styles DESC\n",
    "LIMIT 1;"
   ]
  },
  {
   "cell_type": "markdown",
   "metadata": {},
   "source": [
    "# 14- Identify the top 5 artists whose paintings are displayed in multiple countries"
   ]
  },
  {
   "cell_type": "code",
   "execution_count": 72,
   "metadata": {},
   "outputs": [
    {
     "name": "stdout",
     "output_type": "stream",
     "text": [
      " * sqlite:///paintings.db\n",
      "Done.\n"
     ]
    },
    {
     "data": {
      "text/html": [
       "<table>\n",
       "    <thead>\n",
       "        <tr>\n",
       "            <th>artist_name</th>\n",
       "            <th>nr_of_countries_displayed</th>\n",
       "        </tr>\n",
       "    </thead>\n",
       "    <tbody>\n",
       "        <tr>\n",
       "            <td>Pierre-Auguste Renoir</td>\n",
       "            <td>272</td>\n",
       "        </tr>\n",
       "        <tr>\n",
       "            <td>Claude Monet</td>\n",
       "            <td>192</td>\n",
       "        </tr>\n",
       "        <tr>\n",
       "            <td>Vincent Van Gogh</td>\n",
       "            <td>142</td>\n",
       "        </tr>\n",
       "        <tr>\n",
       "            <td>Paul Cézanne</td>\n",
       "            <td>125</td>\n",
       "        </tr>\n",
       "        <tr>\n",
       "            <td>Camille Pissarro</td>\n",
       "            <td>95</td>\n",
       "        </tr>\n",
       "    </tbody>\n",
       "</table>"
      ],
      "text/plain": [
       "[('Pierre-Auguste Renoir', 272),\n",
       " ('Claude Monet', 192),\n",
       " ('Vincent Van Gogh', 142),\n",
       " ('Paul Cézanne', 125),\n",
       " ('Camille Pissarro', 95)]"
      ]
     },
     "execution_count": 72,
     "metadata": {},
     "output_type": "execute_result"
    }
   ],
   "source": [
    "%%sql\n",
    "SELECT \n",
    "  a.full_name AS artist_name,\n",
    "  COUNT(*) AS nr_of_countries_displayed\n",
    "FROM museum AS m\n",
    "JOIN work AS w\n",
    "  ON m.museum_id = w.museum_id\n",
    "JOIN artist AS a\n",
    "  ON w.artist_id = a.artist_id\n",
    "GROUP BY 1\n",
    "HAVING nr_of_countries_displayed > 2\n",
    "ORDER BY COUNT(*) DESC\n",
    "LIMIT 5;"
   ]
  },
  {
   "cell_type": "markdown",
   "metadata": {},
   "source": [
    "# 15- Which country has the 5th highest nr. of paintings?"
   ]
  },
  {
   "cell_type": "code",
   "execution_count": 73,
   "metadata": {},
   "outputs": [
    {
     "name": "stdout",
     "output_type": "stream",
     "text": [
      " * sqlite:///paintings.db\n",
      "Done.\n"
     ]
    },
    {
     "data": {
      "text/html": [
       "<table>\n",
       "    <thead>\n",
       "        <tr>\n",
       "            <th>country</th>\n",
       "            <th>nr_of_paintings</th>\n",
       "        </tr>\n",
       "    </thead>\n",
       "    <tbody>\n",
       "        <tr>\n",
       "            <td>Spain</td>\n",
       "            <td>196</td>\n",
       "        </tr>\n",
       "    </tbody>\n",
       "</table>"
      ],
      "text/plain": [
       "[('Spain', 196)]"
      ]
     },
     "execution_count": 73,
     "metadata": {},
     "output_type": "execute_result"
    }
   ],
   "source": [
    "%%sql\n",
    "SELECT \n",
    "  m.country,\n",
    "  COUNT(*) AS nr_of_paintings\n",
    "FROM museum AS m\n",
    "JOIN work AS w\n",
    "  ON m.museum_id = w.museum_id\n",
    "GROUP BY 1\n",
    "ORDER BY COUNT(*) DESC\n",
    "LIMIT 1\n",
    "OFFSET 4;"
   ]
  },
  {
   "cell_type": "markdown",
   "metadata": {},
   "source": [
    "# 16- Which are the 3 most popular and 3 least popular styles?"
   ]
  },
  {
   "cell_type": "code",
   "execution_count": 74,
   "metadata": {},
   "outputs": [
    {
     "name": "stdout",
     "output_type": "stream",
     "text": [
      " * sqlite:///paintings.db\n",
      "Done.\n"
     ]
    },
    {
     "data": {
      "text/html": [
       "<table>\n",
       "    <thead>\n",
       "        <tr>\n",
       "            <th>style</th>\n",
       "            <th>nr_of_paintings</th>\n",
       "            <th>remarks</th>\n",
       "        </tr>\n",
       "    </thead>\n",
       "    <tbody>\n",
       "        <tr>\n",
       "            <td>Impressionism</td>\n",
       "            <td>3078</td>\n",
       "            <td>Most Popular</td>\n",
       "        </tr>\n",
       "        <tr>\n",
       "            <td>Post-Impressionism</td>\n",
       "            <td>1672</td>\n",
       "            <td>Most Popular</td>\n",
       "        </tr>\n",
       "        <tr>\n",
       "            <td>None</td>\n",
       "            <td>1228</td>\n",
       "            <td>Most Popular</td>\n",
       "        </tr>\n",
       "        <tr>\n",
       "            <td>Japanese Art</td>\n",
       "            <td>70</td>\n",
       "            <td>Least Popular</td>\n",
       "        </tr>\n",
       "        <tr>\n",
       "            <td>Art Nouveau</td>\n",
       "            <td>108</td>\n",
       "            <td>Least Popular</td>\n",
       "        </tr>\n",
       "        <tr>\n",
       "            <td>Avant-Garde</td>\n",
       "            <td>146</td>\n",
       "            <td>Least Popular</td>\n",
       "        </tr>\n",
       "    </tbody>\n",
       "</table>"
      ],
      "text/plain": [
       "[('Impressionism', 3078, 'Most Popular'),\n",
       " ('Post-Impressionism', 1672, 'Most Popular'),\n",
       " (None, 1228, 'Most Popular'),\n",
       " ('Japanese Art', 70, 'Least Popular'),\n",
       " ('Art Nouveau', 108, 'Least Popular'),\n",
       " ('Avant-Garde', 146, 'Least Popular')]"
      ]
     },
     "execution_count": 74,
     "metadata": {},
     "output_type": "execute_result"
    }
   ],
   "source": [
    "%%sql\n",
    "SELECT style, nr_of_paintings, remarks\n",
    "FROM (\n",
    "    SELECT \n",
    "        style,\n",
    "        COUNT(*) AS nr_of_paintings,\n",
    "        'Most Popular' AS remarks\n",
    "    FROM work\n",
    "    GROUP BY style\n",
    "    ORDER BY COUNT(*) DESC\n",
    "    LIMIT 3\n",
    ") AS most_popular\n",
    "UNION ALL\n",
    "SELECT style, nr_of_paintings, remarks\n",
    "FROM (\n",
    "    SELECT \n",
    "        style,\n",
    "        COUNT(*) AS nr_of_paintings,\n",
    "        'Least Popular' AS remarks\n",
    "    FROM work\n",
    "    GROUP BY style\n",
    "    ORDER BY COUNT(*) ASC\n",
    "    LIMIT 3\n",
    ") AS least_popular;"
   ]
  },
  {
   "cell_type": "markdown",
   "metadata": {},
   "source": [
    "# 17- Identify the artist and the museum where the most expensive and least expensive painting is placed"
   ]
  },
  {
   "cell_type": "markdown",
   "metadata": {},
   "source": [
    "#### Display the artist name, sale_price, painting name, museum name, museum city and canvas label"
   ]
  },
  {
   "cell_type": "code",
   "execution_count": 75,
   "metadata": {},
   "outputs": [
    {
     "name": "stdout",
     "output_type": "stream",
     "text": [
      " * sqlite:///paintings.db\n",
      "Done.\n"
     ]
    },
    {
     "data": {
      "text/html": [
       "<table>\n",
       "    <thead>\n",
       "        <tr>\n",
       "            <th>painting</th>\n",
       "            <th>sale_price</th>\n",
       "            <th>artist</th>\n",
       "            <th>museum</th>\n",
       "            <th>city</th>\n",
       "            <th>canvas</th>\n",
       "        </tr>\n",
       "    </thead>\n",
       "    <tbody>\n",
       "        <tr>\n",
       "            <td>Portrait of Madame Labille-Guyard and Her Pupils</td>\n",
       "            <td>10</td>\n",
       "            <td>Adélaïde Labille-Guiard</td>\n",
       "            <td>The Metropolitan Museum of Art</td>\n",
       "            <td>New York</td>\n",
       "            <td>30&quot; Long Edge</td>\n",
       "        </tr>\n",
       "        <tr>\n",
       "            <td>Portrait of Madame Labille-Guyard and Her Pupils</td>\n",
       "            <td>10</td>\n",
       "            <td>Adélaïde Labille-Guiard</td>\n",
       "            <td>The Metropolitan Museum of Art</td>\n",
       "            <td>New York</td>\n",
       "            <td>36&quot; Long Edge</td>\n",
       "        </tr>\n",
       "        <tr>\n",
       "            <td>Fortuna</td>\n",
       "            <td>1115</td>\n",
       "            <td>Peter Paul Rubens</td>\n",
       "            <td>The Prado Museum</td>\n",
       "            <td>Madrid</td>\n",
       "            <td>48&quot; x 96&quot;(122 cm x 244 cm)</td>\n",
       "        </tr>\n",
       "    </tbody>\n",
       "</table>"
      ],
      "text/plain": [
       "[('Portrait of Madame Labille-Guyard and Her Pupils', 10, 'Adélaïde Labille-Guiard', 'The Metropolitan Museum of Art', 'New York', '30\" Long Edge'),\n",
       " ('Portrait of Madame Labille-Guyard and Her Pupils', 10, 'Adélaïde Labille-Guiard', 'The Metropolitan Museum of Art', 'New York', '36\" Long Edge'),\n",
       " ('Fortuna', 1115, 'Peter Paul Rubens', 'The Prado Museum', 'Madrid', '48\" x 96\"(122 cm x 244 cm)')]"
      ]
     },
     "execution_count": 75,
     "metadata": {},
     "output_type": "execute_result"
    }
   ],
   "source": [
    "%%sql\n",
    "WITH cte AS (\n",
    "    SELECT \n",
    "        *,\n",
    "        RANK() OVER (ORDER BY sale_price DESC) AS rnk_desc,\n",
    "        RANK() OVER (ORDER BY sale_price) AS rnk_asc\n",
    "    FROM product_size\n",
    ")\n",
    "SELECT \n",
    "    w.name AS painting,\n",
    "    cte.sale_price,\n",
    "    a.full_name AS artist,\n",
    "    m.name AS museum,\n",
    "    m.city,\n",
    "    cz.label AS canvas\n",
    "FROM \n",
    "    cte\n",
    "JOIN \n",
    "    work w ON w.work_id = cte.work_id\n",
    "JOIN \n",
    "    museum m ON m.museum_id = w.museum_id\n",
    "JOIN \n",
    "    artist a ON a.artist_id = w.artist_id\n",
    "JOIN \n",
    "    canvas_size cz ON cz.size_id = CAST(cte.size_id AS NUMERIC)\n",
    "WHERE \n",
    "    cte.rnk_desc = 1 OR cte.rnk_asc = 1;\n"
   ]
  },
  {
   "cell_type": "markdown",
   "metadata": {},
   "source": [
    "# 18- Which artist has the most no of Portraits paintings outside USA?"
   ]
  },
  {
   "cell_type": "markdown",
   "metadata": {},
   "source": [
    "### Display artist name, no of paintings and the artist nationality.\n",
    "\tselect full_name as artist_name, nationality, no_of_paintings\n"
   ]
  },
  {
   "cell_type": "code",
   "execution_count": 76,
   "metadata": {},
   "outputs": [
    {
     "name": "stdout",
     "output_type": "stream",
     "text": [
      " * sqlite:///paintings.db\n",
      "Done.\n"
     ]
    },
    {
     "data": {
      "text/html": [
       "<table>\n",
       "    <thead>\n",
       "        <tr>\n",
       "            <th>artist_name</th>\n",
       "            <th>nationality</th>\n",
       "            <th>no_of_paintings</th>\n",
       "        </tr>\n",
       "    </thead>\n",
       "    <tbody>\n",
       "        <tr>\n",
       "            <td>Jan Willem Pieneman</td>\n",
       "            <td>Dutch</td>\n",
       "            <td>14</td>\n",
       "        </tr>\n",
       "        <tr>\n",
       "            <td>Vincent Van Gogh</td>\n",
       "            <td>Dutch</td>\n",
       "            <td>14</td>\n",
       "        </tr>\n",
       "    </tbody>\n",
       "</table>"
      ],
      "text/plain": [
       "[('Jan Willem Pieneman', 'Dutch', 14), ('Vincent Van Gogh', 'Dutch', 14)]"
      ]
     },
     "execution_count": 76,
     "metadata": {},
     "output_type": "execute_result"
    }
   ],
   "source": [
    "%%sql\n",
    "SELECT \n",
    "    full_name AS artist_name,\n",
    "    nationality,\n",
    "    no_of_paintings\n",
    "FROM (\n",
    "    SELECT \n",
    "        a.full_name,\n",
    "        a.nationality,\n",
    "        COUNT(1) AS no_of_paintings,\n",
    "        RANK() OVER (ORDER BY COUNT(1) DESC) AS rnk\n",
    "    FROM \n",
    "        work w\n",
    "    JOIN \n",
    "        artist a ON a.artist_id = w.artist_id\n",
    "    JOIN \n",
    "        subject s ON s.work_id = w.work_id\n",
    "    JOIN \n",
    "        museum m ON m.museum_id = w.museum_id\n",
    "    WHERE \n",
    "        s.subject = 'Portraits'\n",
    "        AND m.country != 'USA'\n",
    "    GROUP BY \n",
    "        a.full_name,\n",
    "        a.nationality\n",
    ") x\n",
    "WHERE \n",
    "    rnk = 1;\n"
   ]
  }
 ],
 "metadata": {
  "kernelspec": {
   "display_name": "Python 3",
   "language": "python",
   "name": "python3"
  },
  "language_info": {
   "codemirror_mode": {
    "name": "ipython",
    "version": 3
   },
   "file_extension": ".py",
   "mimetype": "text/x-python",
   "name": "python",
   "nbconvert_exporter": "python",
   "pygments_lexer": "ipython3",
   "version": "3.11.1"
  }
 },
 "nbformat": 4,
 "nbformat_minor": 2
}
